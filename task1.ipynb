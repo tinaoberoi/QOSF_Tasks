{
 "cells": [
  {
   "cell_type": "code",
   "execution_count": 19,
   "metadata": {},
   "outputs": [],
   "source": [
    "from qiskit import QuantumCircuit, execute, Aer\n",
    "from qiskit.circuit.library import QFT"
   ]
  },
  {
   "cell_type": "code",
   "execution_count": 20,
   "metadata": {},
   "outputs": [
    {
     "data": {
      "text/html": [
       "<pre style=\"word-wrap: normal;white-space: pre;background: #fff0;line-height: 1.1;font-family: &quot;Courier New&quot;,Courier,monospace\">      ┌───┐\n",
       " q_0: ┤ H ├\n",
       "      ├───┤\n",
       " q_1: ┤ H ├\n",
       "      └───┘\n",
       " q_2: ─────\n",
       "           \n",
       " q_3: ─────\n",
       "           \n",
       " q_4: ─────\n",
       "           \n",
       " q_5: ─────\n",
       "           \n",
       " q_6: ─────\n",
       "           \n",
       "c: 18/═════\n",
       "           </pre>"
      ],
      "text/plain": [
       "      ┌───┐\n",
       " q_0: ┤ H ├\n",
       "      ├───┤\n",
       " q_1: ┤ H ├\n",
       "      └───┘\n",
       " q_2: ─────\n",
       "           \n",
       " q_3: ─────\n",
       "           \n",
       " q_4: ─────\n",
       "           \n",
       " q_5: ─────\n",
       "           \n",
       " q_6: ─────\n",
       "           \n",
       "c: 18/═════\n",
       "           "
      ]
     },
     "execution_count": 20,
     "metadata": {},
     "output_type": "execute_result"
    }
   ],
   "source": [
    "# For test indentifying if a0 = 7 is larger or a1 = 18 is larger\n",
    "comp_qc = QuantumCircuit(7, 18)\n",
    "\n",
    "# Add hadamard gate to qubits input 1 and input 2 to create superposition possibilities\n",
    "comp_qc.h(0)\n",
    "comp_qc.h(1)\n",
    "\n",
    "comp_qc.draw()"
   ]
  },
  {
   "cell_type": "code",
   "execution_count": 21,
   "metadata": {},
   "outputs": [
    {
     "data": {
      "text/html": [
       "<pre style=\"word-wrap: normal;white-space: pre;background: #fff0;line-height: 1.1;font-family: &quot;Courier New&quot;,Courier,monospace\">      ┌───┐                         \n",
       " q_0: ┤ H ├──■──────────────────────\n",
       "      ├───┤  │                      \n",
       " q_1: ┤ H ├──┼────■─────────────────\n",
       "      └───┘┌─┴─┐  │                 \n",
       " q_2: ─────┤ X ├──┼────■─────────■──\n",
       "           └───┘┌─┴─┐  │         │  \n",
       " q_3: ──────────┤ X ├──■────■────■──\n",
       "                └───┘┌─┴─┐  │    │  \n",
       " q_4: ───────────────┤ X ├──┼────┼──\n",
       "                     └───┘┌─┴─┐┌─┴─┐\n",
       " q_5: ────────────────────┤ X ├┤ X ├\n",
       "                          └───┘└───┘\n",
       " q_6: ──────────────────────────────\n",
       "                                    \n",
       "c: 18/══════════════════════════════\n",
       "                                    </pre>"
      ],
      "text/plain": [
       "      ┌───┐                         \n",
       " q_0: ┤ H ├──■──────────────────────\n",
       "      ├───┤  │                      \n",
       " q_1: ┤ H ├──┼────■─────────────────\n",
       "      └───┘┌─┴─┐  │                 \n",
       " q_2: ─────┤ X ├──┼────■─────────■──\n",
       "           └───┘┌─┴─┐  │         │  \n",
       " q_3: ──────────┤ X ├──■────■────■──\n",
       "                └───┘┌─┴─┐  │    │  \n",
       " q_4: ───────────────┤ X ├──┼────┼──\n",
       "                     └───┘┌─┴─┐┌─┴─┐\n",
       " q_5: ────────────────────┤ X ├┤ X ├\n",
       "                          └───┘└───┘\n",
       " q_6: ──────────────────────────────\n",
       "                                    \n",
       "c: 18/══════════════════════════════\n",
       "                                    "
      ]
     },
     "execution_count": 21,
     "metadata": {},
     "output_type": "execute_result"
    }
   ],
   "source": [
    "\n",
    "# Add a CNOT gate between qubit 0 and 2 , and 1 and 3. \n",
    "# Here the auxilary qubits are 2 and 3. (Auxillary since they are not storing any results)\n",
    "# Whereas 0 and 2 are the input qubits.\n",
    "comp_qc.cx(0, 2)\n",
    "comp_qc.cx(1, 3)\n",
    "\n",
    "# The qubit 4 is the one storing the comparison result.\n",
    "# Applying the CNOT gate q2 to q3 so that when q2 is |1> (when q0 > q1) then q3 state flips.\n",
    "comp_qc.ccx(2, 3, 4)\n",
    "\n",
    "# Store the result in the q5 (classical output) qubit\n",
    "comp_qc.cx(3, 5)\n",
    "comp_qc.ccx(2, 3, 5)\n",
    "\n",
    "comp_qc.draw()"
   ]
  },
  {
   "cell_type": "code",
   "execution_count": 22,
   "metadata": {},
   "outputs": [
    {
     "data": {
      "text/html": [
       "<pre style=\"word-wrap: normal;white-space: pre;background: #fff0;line-height: 1.1;font-family: &quot;Courier New&quot;,Courier,monospace\">      ┌───┐          ┌───────┐                  \n",
       " q_0: ┤ H ├──■───────┤0      ├──────────────────\n",
       "      ├───┤  │       │  IQFT │                  \n",
       " q_1: ┤ H ├──┼────■──┤1      ├──────────────────\n",
       "      └───┘┌─┴─┐  │  └───────┘                  \n",
       " q_2: ─────┤ X ├──┼──────■────────────────■─────\n",
       "           └───┘┌─┴─┐    │                │     \n",
       " q_3: ──────────┤ X ├────■──────■─────────■─────\n",
       "                └───┘  ┌─┴─┐    │         │     \n",
       " q_4: ─────────────────┤ X ├────┼───|0>───┼─────\n",
       "                       └───┘  ┌─┴─┐     ┌─┴─┐┌─┐\n",
       " q_5: ────────────────────────┤ X ├─────┤ X ├┤M├\n",
       "                              └───┘     └───┘└╥┘\n",
       " q_6: ────────────────────────────────────────╫─\n",
       "                                              ║ \n",
       "c: 18/════════════════════════════════════════╩═\n",
       "                                              0 </pre>"
      ],
      "text/plain": [
       "      ┌───┐          ┌───────┐                  \n",
       " q_0: ┤ H ├──■───────┤0      ├──────────────────\n",
       "      ├───┤  │       │  IQFT │                  \n",
       " q_1: ┤ H ├──┼────■──┤1      ├──────────────────\n",
       "      └───┘┌─┴─┐  │  └───────┘                  \n",
       " q_2: ─────┤ X ├──┼──────■────────────────■─────\n",
       "           └───┘┌─┴─┐    │                │     \n",
       " q_3: ──────────┤ X ├────■──────■─────────■─────\n",
       "                └───┘  ┌─┴─┐    │         │     \n",
       " q_4: ─────────────────┤ X ├────┼───|0>───┼─────\n",
       "                       └───┘  ┌─┴─┐     ┌─┴─┐┌─┐\n",
       " q_5: ────────────────────────┤ X ├─────┤ X ├┤M├\n",
       "                              └───┘     └───┘└╥┘\n",
       " q_6: ────────────────────────────────────────╫─\n",
       "                                              ║ \n",
       "c: 18/════════════════════════════════════════╩═\n",
       "                                              0 "
      ]
     },
     "execution_count": 22,
     "metadata": {},
     "output_type": "execute_result"
    }
   ],
   "source": [
    "comp_qc.reset(4)\n",
    "comp_qc.append(QFT(2, inverse=True), [0, 1])\n",
    "comp_qc.measure(5, 0)\n",
    "\n",
    "comp_qc.draw()"
   ]
  },
  {
   "cell_type": "code",
   "execution_count": 23,
   "metadata": {},
   "outputs": [
    {
     "name": "stdout",
     "output_type": "stream",
     "text": [
      "The largest number betwee a0 and a1 is :: a1.\n"
     ]
    }
   ],
   "source": [
    "# Simulate the quantum circuit and get the result\n",
    "simulator = Aer.get_backend('aer_simulator')\n",
    "comp_res = execute(comp_qc, simulator, shots=10).result()\n",
    "counts = comp_res.get_counts(comp_qc)\n",
    "\n",
    "# Print the result\n",
    "if '1' in counts:\n",
    "    print(\"The largest number betwee a0 and a1 is :: a0.\")\n",
    "else:\n",
    "    print(\"The largest number betwee a0 and a1 is :: a1.\")\n"
   ]
  },
  {
   "cell_type": "code",
   "execution_count": null,
   "metadata": {},
   "outputs": [],
   "source": []
  }
 ],
 "metadata": {
  "kernelspec": {
   "display_name": "Python 3",
   "language": "python",
   "name": "python3"
  },
  "language_info": {
   "codemirror_mode": {
    "name": "ipython",
    "version": 3
   },
   "file_extension": ".py",
   "mimetype": "text/x-python",
   "name": "python",
   "nbconvert_exporter": "python",
   "pygments_lexer": "ipython3",
   "version": "3.9.16"
  },
  "orig_nbformat": 4,
  "vscode": {
   "interpreter": {
    "hash": "a665b5d41d17b532ea9890333293a1b812fa0b73c9c25c950b3cedf1bebd0438"
   }
  }
 },
 "nbformat": 4,
 "nbformat_minor": 2
}
